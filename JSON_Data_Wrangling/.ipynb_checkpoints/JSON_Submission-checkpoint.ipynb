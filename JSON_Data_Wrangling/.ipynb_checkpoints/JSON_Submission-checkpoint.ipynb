{
 "cells": [
  {
   "cell_type": "markdown",
   "metadata": {},
   "source": [
    "****\n",
    "## JSON Exercise\n",
    "\n",
    "Using data in file 'data/world_bank_projects.json' and the techniques demonstrated above,\n",
    "1. Find the 10 countries with most projects\n",
    "2. Find the top 10 major project themes (using column 'mjtheme_namecode')\n",
    "3. In 2. above you will notice that some entries have only the code and the name is missing. Create a dataframe with the missing names filled in."
   ]
  },
  {
   "cell_type": "markdown",
   "metadata": {},
   "source": [
    "# Start of code\n",
    "\n",
    "## 1. Find the 10 countries with most projects"
   ]
  },
  {
   "cell_type": "code",
   "execution_count": 211,
   "metadata": {},
   "outputs": [],
   "source": [
    "import pandas as pd\n",
    "import json\n",
    "from pandas.io.json import json_normalize\n",
    "import numpy as np # Used later for np.nan"
   ]
  },
  {
   "cell_type": "code",
   "execution_count": 212,
   "metadata": {
    "scrolled": true
   },
   "outputs": [
    {
     "data": {
      "text/html": [
       "<div>\n",
       "<style scoped>\n",
       "    .dataframe tbody tr th:only-of-type {\n",
       "        vertical-align: middle;\n",
       "    }\n",
       "\n",
       "    .dataframe tbody tr th {\n",
       "        vertical-align: top;\n",
       "    }\n",
       "\n",
       "    .dataframe thead th {\n",
       "        text-align: right;\n",
       "    }\n",
       "</style>\n",
       "<table border=\"1\" class=\"dataframe\">\n",
       "  <thead>\n",
       "    <tr style=\"text-align: right;\">\n",
       "      <th></th>\n",
       "      <th>sector</th>\n",
       "      <th>supplementprojectflg</th>\n",
       "      <th>projectfinancialtype</th>\n",
       "      <th>prodline</th>\n",
       "      <th>mjtheme</th>\n",
       "      <th>idacommamt</th>\n",
       "      <th>impagency</th>\n",
       "      <th>project_name</th>\n",
       "      <th>mjthemecode</th>\n",
       "      <th>closingdate</th>\n",
       "      <th>...</th>\n",
       "      <th>majorsector_percent</th>\n",
       "      <th>board_approval_month</th>\n",
       "      <th>theme_namecode</th>\n",
       "      <th>countryname</th>\n",
       "      <th>url</th>\n",
       "      <th>source</th>\n",
       "      <th>projectstatusdisplay</th>\n",
       "      <th>ibrdcommamt</th>\n",
       "      <th>sector_namecode</th>\n",
       "      <th>_id</th>\n",
       "    </tr>\n",
       "  </thead>\n",
       "  <tbody>\n",
       "    <tr>\n",
       "      <td>0</td>\n",
       "      <td>[{'Name': 'Primary education'}, {'Name': 'Seco...</td>\n",
       "      <td>N</td>\n",
       "      <td>IDA</td>\n",
       "      <td>PE</td>\n",
       "      <td>[Human development]</td>\n",
       "      <td>130000000</td>\n",
       "      <td>MINISTRY OF EDUCATION</td>\n",
       "      <td>Ethiopia General Education Quality Improvement...</td>\n",
       "      <td>8,11</td>\n",
       "      <td>2018-07-07T00:00:00Z</td>\n",
       "      <td>...</td>\n",
       "      <td>[{'Percent': 46, 'Name': 'Education'}, {'Perce...</td>\n",
       "      <td>November</td>\n",
       "      <td>[{'code': '65', 'name': 'Education for all'}]</td>\n",
       "      <td>Federal Democratic Republic of Ethiopia</td>\n",
       "      <td>http://www.worldbank.org/projects/P129828/ethi...</td>\n",
       "      <td>IBRD</td>\n",
       "      <td>Active</td>\n",
       "      <td>0</td>\n",
       "      <td>[{'code': 'EP', 'name': 'Primary education'}, ...</td>\n",
       "      <td>{'$oid': '52b213b38594d8a2be17c780'}</td>\n",
       "    </tr>\n",
       "    <tr>\n",
       "      <td>1</td>\n",
       "      <td>[{'Name': 'Public administration- Other social...</td>\n",
       "      <td>N</td>\n",
       "      <td>OTHER</td>\n",
       "      <td>RE</td>\n",
       "      <td>[Economic management, Social protection and ri...</td>\n",
       "      <td>0</td>\n",
       "      <td>MINISTRY OF FINANCE</td>\n",
       "      <td>TN: DTF Social Protection Reforms Support</td>\n",
       "      <td>1,6</td>\n",
       "      <td>NaN</td>\n",
       "      <td>...</td>\n",
       "      <td>[{'Percent': 70, 'Name': 'Public Administratio...</td>\n",
       "      <td>November</td>\n",
       "      <td>[{'code': '24', 'name': 'Other economic manage...</td>\n",
       "      <td>Republic of Tunisia</td>\n",
       "      <td>http://www.worldbank.org/projects/P144674?lang=en</td>\n",
       "      <td>IBRD</td>\n",
       "      <td>Active</td>\n",
       "      <td>0</td>\n",
       "      <td>[{'code': 'BS', 'name': 'Public administration...</td>\n",
       "      <td>{'$oid': '52b213b38594d8a2be17c781'}</td>\n",
       "    </tr>\n",
       "    <tr>\n",
       "      <td>2</td>\n",
       "      <td>[{'Name': 'Rural and Inter-Urban Roads and Hig...</td>\n",
       "      <td>Y</td>\n",
       "      <td>IDA</td>\n",
       "      <td>PE</td>\n",
       "      <td>[Trade and integration, Public sector governan...</td>\n",
       "      <td>6060000</td>\n",
       "      <td>MINISTRY OF TRANSPORT AND COMMUNICATIONS</td>\n",
       "      <td>Tuvalu Aviation Investment Project - Additiona...</td>\n",
       "      <td>5,2,11,6</td>\n",
       "      <td>NaN</td>\n",
       "      <td>...</td>\n",
       "      <td>[{'Percent': 100, 'Name': 'Transportation'}]</td>\n",
       "      <td>November</td>\n",
       "      <td>[{'code': '47', 'name': 'Regional integration'...</td>\n",
       "      <td>Tuvalu</td>\n",
       "      <td>http://www.worldbank.org/projects/P145310?lang=en</td>\n",
       "      <td>IBRD</td>\n",
       "      <td>Active</td>\n",
       "      <td>0</td>\n",
       "      <td>[{'code': 'TI', 'name': 'Rural and Inter-Urban...</td>\n",
       "      <td>{'$oid': '52b213b38594d8a2be17c782'}</td>\n",
       "    </tr>\n",
       "  </tbody>\n",
       "</table>\n",
       "<p>3 rows × 50 columns</p>\n",
       "</div>"
      ],
      "text/plain": [
       "                                              sector supplementprojectflg  \\\n",
       "0  [{'Name': 'Primary education'}, {'Name': 'Seco...                    N   \n",
       "1  [{'Name': 'Public administration- Other social...                    N   \n",
       "2  [{'Name': 'Rural and Inter-Urban Roads and Hig...                    Y   \n",
       "\n",
       "  projectfinancialtype prodline  \\\n",
       "0                  IDA       PE   \n",
       "1                OTHER       RE   \n",
       "2                  IDA       PE   \n",
       "\n",
       "                                             mjtheme  idacommamt  \\\n",
       "0                                [Human development]   130000000   \n",
       "1  [Economic management, Social protection and ri...           0   \n",
       "2  [Trade and integration, Public sector governan...     6060000   \n",
       "\n",
       "                                  impagency  \\\n",
       "0                     MINISTRY OF EDUCATION   \n",
       "1                       MINISTRY OF FINANCE   \n",
       "2  MINISTRY OF TRANSPORT AND COMMUNICATIONS   \n",
       "\n",
       "                                        project_name mjthemecode  \\\n",
       "0  Ethiopia General Education Quality Improvement...        8,11   \n",
       "1          TN: DTF Social Protection Reforms Support         1,6   \n",
       "2  Tuvalu Aviation Investment Project - Additiona...    5,2,11,6   \n",
       "\n",
       "            closingdate  ...  \\\n",
       "0  2018-07-07T00:00:00Z  ...   \n",
       "1                   NaN  ...   \n",
       "2                   NaN  ...   \n",
       "\n",
       "                                 majorsector_percent board_approval_month  \\\n",
       "0  [{'Percent': 46, 'Name': 'Education'}, {'Perce...             November   \n",
       "1  [{'Percent': 70, 'Name': 'Public Administratio...             November   \n",
       "2       [{'Percent': 100, 'Name': 'Transportation'}]             November   \n",
       "\n",
       "                                      theme_namecode  \\\n",
       "0      [{'code': '65', 'name': 'Education for all'}]   \n",
       "1  [{'code': '24', 'name': 'Other economic manage...   \n",
       "2  [{'code': '47', 'name': 'Regional integration'...   \n",
       "\n",
       "                               countryname  \\\n",
       "0  Federal Democratic Republic of Ethiopia   \n",
       "1                      Republic of Tunisia   \n",
       "2                                   Tuvalu   \n",
       "\n",
       "                                                 url source  \\\n",
       "0  http://www.worldbank.org/projects/P129828/ethi...   IBRD   \n",
       "1  http://www.worldbank.org/projects/P144674?lang=en   IBRD   \n",
       "2  http://www.worldbank.org/projects/P145310?lang=en   IBRD   \n",
       "\n",
       "  projectstatusdisplay ibrdcommamt  \\\n",
       "0               Active           0   \n",
       "1               Active           0   \n",
       "2               Active           0   \n",
       "\n",
       "                                     sector_namecode  \\\n",
       "0  [{'code': 'EP', 'name': 'Primary education'}, ...   \n",
       "1  [{'code': 'BS', 'name': 'Public administration...   \n",
       "2  [{'code': 'TI', 'name': 'Rural and Inter-Urban...   \n",
       "\n",
       "                                    _id  \n",
       "0  {'$oid': '52b213b38594d8a2be17c780'}  \n",
       "1  {'$oid': '52b213b38594d8a2be17c781'}  \n",
       "2  {'$oid': '52b213b38594d8a2be17c782'}  \n",
       "\n",
       "[3 rows x 50 columns]"
      ]
     },
     "execution_count": 212,
     "metadata": {},
     "output_type": "execute_result"
    }
   ],
   "source": [
    "# load data\n",
    "df = pd.read_json('C:\\\\Users\\jlreg\\Desktop\\Projects\\JSON_Data_Wrangling\\data\\world_bank_projects.json')\n",
    "df.head(3) # Always call head for structure of table and name of col"
   ]
  },
  {
   "cell_type": "code",
   "execution_count": 213,
   "metadata": {},
   "outputs": [
    {
     "name": "stdout",
     "output_type": "stream",
     "text": [
      "<class 'pandas.core.frame.DataFrame'>\n",
      "RangeIndex: 500 entries, 0 to 499\n",
      "Data columns (total 50 columns):\n",
      "sector                      500 non-null object\n",
      "supplementprojectflg        498 non-null object\n",
      "projectfinancialtype        500 non-null object\n",
      "prodline                    500 non-null object\n",
      "mjtheme                     491 non-null object\n",
      "idacommamt                  500 non-null int64\n",
      "impagency                   472 non-null object\n",
      "project_name                500 non-null object\n",
      "mjthemecode                 500 non-null object\n",
      "closingdate                 370 non-null object\n",
      "totalcommamt                500 non-null int64\n",
      "id                          500 non-null object\n",
      "mjsector_namecode           500 non-null object\n",
      "docty                       446 non-null object\n",
      "sector1                     500 non-null object\n",
      "lendinginstr                495 non-null object\n",
      "countrycode                 500 non-null object\n",
      "sector2                     380 non-null object\n",
      "totalamt                    500 non-null int64\n",
      "mjtheme_namecode            500 non-null object\n",
      "boardapprovaldate           500 non-null object\n",
      "countryshortname            500 non-null object\n",
      "sector4                     174 non-null object\n",
      "prodlinetext                500 non-null object\n",
      "productlinetype             500 non-null object\n",
      "regionname                  500 non-null object\n",
      "status                      500 non-null object\n",
      "country_namecode            500 non-null object\n",
      "envassesmentcategorycode    430 non-null object\n",
      "project_abstract            362 non-null object\n",
      "approvalfy                  500 non-null int64\n",
      "projectdocs                 446 non-null object\n",
      "lendprojectcost             500 non-null int64\n",
      "lendinginstrtype            495 non-null object\n",
      "theme1                      500 non-null object\n",
      "grantamt                    500 non-null int64\n",
      "themecode                   491 non-null object\n",
      "borrower                    485 non-null object\n",
      "sectorcode                  500 non-null object\n",
      "sector3                     265 non-null object\n",
      "majorsector_percent         500 non-null object\n",
      "board_approval_month        500 non-null object\n",
      "theme_namecode              491 non-null object\n",
      "countryname                 500 non-null object\n",
      "url                         500 non-null object\n",
      "source                      500 non-null object\n",
      "projectstatusdisplay        500 non-null object\n",
      "ibrdcommamt                 500 non-null int64\n",
      "sector_namecode             500 non-null object\n",
      "_id                         500 non-null object\n",
      "dtypes: int64(7), object(43)\n",
      "memory usage: 195.4+ KB\n"
     ]
    }
   ],
   "source": [
    "df.info() # Checking contents of df\n",
    "\n",
    " # We have 500 rows of data, but some columns have missing, or null, data. We can proceed with analysis on 'countryname' col since it does not contain null values."
   ]
  },
  {
   "cell_type": "code",
   "execution_count": 214,
   "metadata": {},
   "outputs": [
    {
     "data": {
      "text/plain": [
       "People's Republic of China         19\n",
       "Republic of Indonesia              19\n",
       "Socialist Republic of Vietnam      17\n",
       "Republic of India                  16\n",
       "Republic of Yemen                  13\n",
       "Nepal                              12\n",
       "Kingdom of Morocco                 12\n",
       "People's Republic of Bangladesh    12\n",
       "Africa                             11\n",
       "Republic of Mozambique             11\n",
       "Name: countryname, dtype: int64"
      ]
     },
     "execution_count": 214,
     "metadata": {},
     "output_type": "execute_result"
    }
   ],
   "source": [
    "countries = df.countryname.value_counts()\n",
    "countries.head(10)"
   ]
  },
  {
   "cell_type": "markdown",
   "metadata": {},
   "source": [
    "## 2. Find the top 10 major project themes (using column 'mjtheme_namecode')"
   ]
  },
  {
   "cell_type": "code",
   "execution_count": 215,
   "metadata": {
    "scrolled": true
   },
   "outputs": [
    {
     "data": {
      "text/html": [
       "<div>\n",
       "<style scoped>\n",
       "    .dataframe tbody tr th:only-of-type {\n",
       "        vertical-align: middle;\n",
       "    }\n",
       "\n",
       "    .dataframe tbody tr th {\n",
       "        vertical-align: top;\n",
       "    }\n",
       "\n",
       "    .dataframe thead th {\n",
       "        text-align: right;\n",
       "    }\n",
       "</style>\n",
       "<table border=\"1\" class=\"dataframe\">\n",
       "  <thead>\n",
       "    <tr style=\"text-align: right;\">\n",
       "      <th></th>\n",
       "      <th>code</th>\n",
       "      <th>name</th>\n",
       "    </tr>\n",
       "  </thead>\n",
       "  <tbody>\n",
       "    <tr>\n",
       "      <td>0</td>\n",
       "      <td>8</td>\n",
       "      <td>Human development</td>\n",
       "    </tr>\n",
       "    <tr>\n",
       "      <td>1</td>\n",
       "      <td>11</td>\n",
       "      <td></td>\n",
       "    </tr>\n",
       "    <tr>\n",
       "      <td>2</td>\n",
       "      <td>1</td>\n",
       "      <td>Economic management</td>\n",
       "    </tr>\n",
       "    <tr>\n",
       "      <td>3</td>\n",
       "      <td>6</td>\n",
       "      <td>Social protection and risk management</td>\n",
       "    </tr>\n",
       "    <tr>\n",
       "      <td>4</td>\n",
       "      <td>5</td>\n",
       "      <td>Trade and integration</td>\n",
       "    </tr>\n",
       "  </tbody>\n",
       "</table>\n",
       "</div>"
      ],
      "text/plain": [
       "  code                                   name\n",
       "0    8                      Human development\n",
       "1   11                                       \n",
       "2    1                    Economic management\n",
       "3    6  Social protection and risk management\n",
       "4    5                  Trade and integration"
      ]
     },
     "execution_count": 215,
     "metadata": {},
     "output_type": "execute_result"
    }
   ],
   "source": [
    "# load json as string to use the json_normalize function\n",
    "with open('C:\\\\Users\\jlreg\\Desktop\\Projects\\JSON_Data_Wrangling\\data\\world_bank_projects.json') as file:\n",
    "    data = json.load(file)\n",
    "data_norm = json_normalize(data,'mjtheme_namecode') #normalize file\n",
    "\n",
    "df2 = pd.DataFrame(data_norm)\n",
    "df2.head() \n",
    "# There are missing values in 'name' col "
   ]
  },
  {
   "cell_type": "code",
   "execution_count": 216,
   "metadata": {},
   "outputs": [
    {
     "data": {
      "text/plain": [
       "Environment and natural resources management    223\n",
       "Rural development                               202\n",
       "Human development                               197\n",
       "Public sector governance                        184\n",
       "Social protection and risk management           158\n",
       "Financial and private sector development        130\n",
       "                                                122\n",
       "Social dev/gender/inclusion                     119\n",
       "Trade and integration                            72\n",
       "Urban development                                47\n",
       "Name: name, dtype: int64"
      ]
     },
     "execution_count": 216,
     "metadata": {},
     "output_type": "execute_result"
    }
   ],
   "source": [
    "themes = df2.name.value_counts()\n",
    "themes.head(10)\n",
    "# Here are the top 10 project themes, but the 'name' column is missing data"
   ]
  },
  {
   "cell_type": "code",
   "execution_count": 217,
   "metadata": {},
   "outputs": [
    {
     "data": {
      "text/plain": [
       "name                                          code\n",
       "Environment and natural resources management  11      223\n",
       "Rural development                             10      202\n",
       "Human development                             8       197\n",
       "Public sector governance                      2       184\n",
       "Social protection and risk management         6       158\n",
       "Financial and private sector development      4       130\n",
       "Social dev/gender/inclusion                   7       119\n",
       "Trade and integration                         5        72\n",
       "Urban development                             9        47\n",
       "Economic management                           1        33\n",
       "                                              11       27\n",
       "                                              4        16\n",
       "                                              2        15\n",
       "                                              10       14\n",
       "                                              8        13\n",
       "Rule of law                                   3        12\n",
       "                                              7        11\n",
       "                                              6        10\n",
       "                                              1         5\n",
       "                                              5         5\n",
       "                                              3         3\n",
       "                                              9         3\n",
       "dtype: int64"
      ]
     },
     "execution_count": 217,
     "metadata": {},
     "output_type": "execute_result"
    }
   ],
   "source": [
    "# 'name' column is missing data, but code column is ok\n",
    "# Will need to fill in name with code to obtain accurate info\n",
    "df2.groupby(['name','code']).size().sort_values(ascending=False)"
   ]
  },
  {
   "cell_type": "markdown",
   "metadata": {},
   "source": [
    "## 3. In 2. above you will notice that some entries have only the code and the name is missing. Create a dataframe with the missing names filled in."
   ]
  },
  {
   "cell_type": "code",
   "execution_count": 218,
   "metadata": {},
   "outputs": [],
   "source": [
    "with open('C:\\\\Users\\jlreg\\Desktop\\Projects\\JSON_Data_Wrangling\\data\\world_bank_projects.json') as f:\n",
    "    d = json.load(f)\n",
    "data_n = json_normalize(d,'mjtheme_namecode') #normalize file\n",
    "\n",
    "df3 = pd.DataFrame(data_n)"
   ]
  },
  {
   "cell_type": "code",
   "execution_count": 219,
   "metadata": {
    "scrolled": true
   },
   "outputs": [
    {
     "data": {
      "text/plain": [
       "{'8': 'Human development',\n",
       " '1': 'Economic management',\n",
       " '6': 'Social protection and risk management',\n",
       " '5': 'Trade and integration',\n",
       " '2': 'Public sector governance',\n",
       " '11': 'Environment and natural resources management',\n",
       " '7': 'Social dev/gender/inclusion',\n",
       " '4': 'Financial and private sector development',\n",
       " '10': 'Rural development',\n",
       " '9': 'Urban development',\n",
       " '3': 'Rule of law'}"
      ]
     },
     "execution_count": 219,
     "metadata": {},
     "output_type": "execute_result"
    }
   ],
   "source": [
    "name_dict = {}\n",
    "for row in df3.itertuples():\n",
    "    if row[2] != '':\n",
    "        name_dict[row[1]] = row[2] #code is 1, name is 2\n",
    "name_dict"
   ]
  },
  {
   "cell_type": "code",
   "execution_count": 232,
   "metadata": {
    "scrolled": true
   },
   "outputs": [
    {
     "data": {
      "text/plain": [
       "Environment and natural resources management    250\n",
       "Rural development                               216\n",
       "Human development                               210\n",
       "Public sector governance                        199\n",
       "Social protection and risk management           168\n",
       "Financial and private sector development        146\n",
       "Social dev/gender/inclusion                     130\n",
       "Trade and integration                            77\n",
       "Urban development                                50\n",
       "Economic management                              38\n",
       "Rule of law                                      15\n",
       "Name: name, dtype: int64"
      ]
     },
     "execution_count": 232,
     "metadata": {},
     "output_type": "execute_result"
    }
   ],
   "source": [
    "for row in name_dict:\n",
    "    df3.name[df3.code == row] = name_dict[row]\n",
    "df3.name.value_counts()"
   ]
  },
  {
   "cell_type": "code",
   "execution_count": null,
   "metadata": {},
   "outputs": [],
   "source": []
  }
 ],
 "metadata": {
  "kernelspec": {
   "display_name": "Python 3",
   "language": "python",
   "name": "python3"
  },
  "language_info": {
   "codemirror_mode": {
    "name": "ipython",
    "version": 3
   },
   "file_extension": ".py",
   "mimetype": "text/x-python",
   "name": "python",
   "nbconvert_exporter": "python",
   "pygments_lexer": "ipython3",
   "version": "3.7.4"
  }
 },
 "nbformat": 4,
 "nbformat_minor": 2
}
